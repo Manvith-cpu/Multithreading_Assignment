{
 "cells": [
  {
   "cell_type": "markdown",
   "id": "c6b1910e-f064-4971-b542-231102bb47d3",
   "metadata": {},
   "source": [
    " threading allows you to have different parts of your program run concurrently and can simplify your design"
   ]
  },
  {
   "cell_type": "markdown",
   "id": "735ef730-44dd-4bf9-bd00-2d29e14bcfd1",
   "metadata": {},
   "source": [
    "# 1.threading.activeCount() − Returns the number of thread objects that are active. \n",
    "# 2.threading.currentThread() − Returns the number of thread objects in the caller's thread control.\n",
    "# 3.threading.enumerate() − Returns a list of all thread objects that are currently active."
   ]
  }
 ],
 "metadata": {
  "kernelspec": {
   "display_name": "Python 3 (ipykernel)",
   "language": "python",
   "name": "python3"
  },
  "language_info": {
   "codemirror_mode": {
    "name": "ipython",
    "version": 3
   },
   "file_extension": ".py",
   "mimetype": "text/x-python",
   "name": "python",
   "nbconvert_exporter": "python",
   "pygments_lexer": "ipython3",
   "version": "3.10.8"
  }
 },
 "nbformat": 4,
 "nbformat_minor": 5
}

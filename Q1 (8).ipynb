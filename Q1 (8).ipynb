{
 "cells": [
  {
   "cell_type": "markdown",
   "id": "29810754-feff-4fb3-ac24-1ce99d78f6a7",
   "metadata": {},
   "source": [
    "Multithreading is defined as the ability of a processor to execute multiple threads concurrently. In a simple, single-core CPU, it is achieved using frequent switching between threads."
   ]
  },
  {
   "cell_type": "markdown",
   "id": "9744eb8c-1080-4ada-8d77-4dcd93cc7b65",
   "metadata": {},
   "source": [
    "Python multithreading enables efficient utilization of the resources as the threads share the data space and memory. Multithreading in Python allows the concurrent and parallel occurrence of various tasks. It causes a reduction in time consumption or response time, thereby increasing the performance."
   ]
  },
  {
   "cell_type": "markdown",
   "id": "eec76b9d-18a9-4009-9b62-b7a658d41ed3",
   "metadata": {},
   "source": [
    "the threading module provides a very simple and intuitive API for spawning multiple threads in a program."
   ]
  }
 ],
 "metadata": {
  "kernelspec": {
   "display_name": "Python 3 (ipykernel)",
   "language": "python",
   "name": "python3"
  },
  "language_info": {
   "codemirror_mode": {
    "name": "ipython",
    "version": 3
   },
   "file_extension": ".py",
   "mimetype": "text/x-python",
   "name": "python",
   "nbconvert_exporter": "python",
   "pygments_lexer": "ipython3",
   "version": "3.10.8"
  }
 },
 "nbformat": 4,
 "nbformat_minor": 5
}

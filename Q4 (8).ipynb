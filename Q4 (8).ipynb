{
 "cells": [
  {
   "cell_type": "code",
   "execution_count": 4,
   "id": "639cac65-6f3d-46cb-a65f-872ba22e69e1",
   "metadata": {},
   "outputs": [
    {
     "name": "stdout",
     "output_type": "stream",
     "text": [
      "Square: 1\n",
      "Cube: 1\n",
      "Square: 4\n",
      "Cube: 8\n",
      "Square: 9\n",
      "Cube: 27\n",
      "Square: 16\n",
      "Cube: 64\n",
      "Square: 25\n",
      "Cube: 125\n",
      "Done\n"
     ]
    }
   ],
   "source": [
    "import threading\n",
    "\n",
    "\n",
    "def print_cube(num):\n",
    "\tprint(\"Cube: {}\" .format(num * num * num))\n",
    "\n",
    "\n",
    "def print_square(num):\n",
    "\tprint(\"Square: {}\" .format(num * num))\n",
    "\n",
    "l1=[1,2,3,4,5]\n",
    "l2=[1,2,3,4,5]\n",
    "if __name__ ==\"__main__\":\n",
    "    for i in l1:\n",
    "        \n",
    "        t1 = threading.Thread(target=print_square, args=(i,))\n",
    "        t2 = threading.Thread(target=print_cube, args=(i,))\n",
    "\n",
    "        t1.start()\n",
    "        t2.start()\n",
    "\n",
    "        t1.join()\n",
    "        t2.join()\n",
    "\n",
    "print(\"Done\")"
   ]
  }
 ],
 "metadata": {
  "kernelspec": {
   "display_name": "Python 3 (ipykernel)",
   "language": "python",
   "name": "python3"
  },
  "language_info": {
   "codemirror_mode": {
    "name": "ipython",
    "version": 3
   },
   "file_extension": ".py",
   "mimetype": "text/x-python",
   "name": "python",
   "nbconvert_exporter": "python",
   "pygments_lexer": "ipython3",
   "version": "3.10.8"
  }
 },
 "nbformat": 4,
 "nbformat_minor": 5
}

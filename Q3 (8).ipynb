{
 "cells": [
  {
   "cell_type": "markdown",
   "id": "539c0197-4085-41ea-be38-e957c0ad70ca",
   "metadata": {},
   "source": [
    "The . run() method executes any target function belonging to a given thread object that is now active. It normally executes in the background after the . start() method is invoked.\n",
    "\n",
    "Once a thread object is created, its activity must be started by calling the thread's start() method. This invokes the run() method in a separate thread of control. Once the thread's activity is started, the thread is considered 'alive'.\n",
    "\n",
    "Hence the join() method indicates wait till the thread terminates. We can also specify a timeout value to the join() method.\n",
    "\n",
    "The isAlive() method checks whether a thread is still executing."
   ]
  },
  {
   "cell_type": "code",
   "execution_count": null,
   "id": "ee90fba5-da19-4f58-abd2-f2c64808d7c2",
   "metadata": {},
   "outputs": [],
   "source": []
  }
 ],
 "metadata": {
  "kernelspec": {
   "display_name": "Python 3 (ipykernel)",
   "language": "python",
   "name": "python3"
  },
  "language_info": {
   "codemirror_mode": {
    "name": "ipython",
    "version": 3
   },
   "file_extension": ".py",
   "mimetype": "text/x-python",
   "name": "python",
   "nbconvert_exporter": "python",
   "pygments_lexer": "ipython3",
   "version": "3.10.8"
  }
 },
 "nbformat": 4,
 "nbformat_minor": 5
}
